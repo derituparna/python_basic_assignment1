{
 "cells": [
  {
   "cell_type": "code",
   "execution_count": null,
   "id": "f185c3ad",
   "metadata": {},
   "outputs": [],
   "source": [
    "In the below elements which of them are values or an expression? eg:- values can be integer or string and expression\n",
    "will be mathematical operators.\n",
    "*\n",
    "'hello'\n",
    "-87.8\n",
    "-\n",
    "/\n",
    "+\n",
    "6\n",
    "=> [*,'hello',-,/,+,6]"
   ]
  },
  {
   "cell_type": "code",
   "execution_count": null,
   "id": "b984424c",
   "metadata": {},
   "outputs": [],
   "source": [
    "2. What is the difference between string and variable?\n",
    "=>A Variable is a store of information, and a String is a type of information you would store in a Variable.\n",
    "A String is usually words, enclosed with (\"\"/'')."
   ]
  },
  {
   "cell_type": "code",
   "execution_count": null,
   "id": "71d8ead8",
   "metadata": {},
   "outputs": [],
   "source": [
    "3. Describe three different data types.\n",
    "=> Integer, String, Float."
   ]
  },
  {
   "cell_type": "code",
   "execution_count": null,
   "id": "a7298f25",
   "metadata": {},
   "outputs": [],
   "source": [
    "4. What is an expression made up of?What do all expressions do?\n",
    "=> An expression is a combination of values and operators. All expressions evaluate (that is, reduce) to a single value."
   ]
  },
  {
   "cell_type": "code",
   "execution_count": null,
   "id": "21a535e2",
   "metadata": {},
   "outputs": [],
   "source": [
    "5.This assignment statements, like spam = 10. What is the difference between an\n",
    "expression and a statement?\n",
    "=>An expression evaluates to a single value & expression is the part of the statement. A statement does not."
   ]
  },
  {
   "cell_type": "code",
   "execution_count": null,
   "id": "53c81349",
   "metadata": {},
   "outputs": [],
   "source": [
    "6. After running the following code, what does the variable bacon contain?\n",
    "bacon = 22\n",
    "bacon + 1\n",
    "=>The bacon variable is set to 20. \n",
    "The bacon + 1 expression does not reassign the value in bacon (that would need an assignment statement: bacon = bacon + 1)"
   ]
  },
  {
   "cell_type": "code",
   "execution_count": null,
   "id": "ad36cfb3",
   "metadata": {},
   "outputs": [],
   "source": [
    "7. What should the values of the following two terms be?\n",
    "'spam'+'spamspam'\n",
    "'spam'*3\n",
    "=>'spamspamspam'"
   ]
  },
  {
   "cell_type": "code",
   "execution_count": null,
   "id": "67cdaaf2",
   "metadata": {},
   "outputs": [],
   "source": [
    "8. Why is eggs a valid variable name while 100 is invalid?\n",
    "=>Variable names cannot begin with a number."
   ]
  },
  {
   "cell_type": "code",
   "execution_count": null,
   "id": "7b500d8b",
   "metadata": {},
   "outputs": [],
   "source": [
    "9. What three functions can be used to get the integer, floating-point number, or string version of a value?\n",
    "=>The int(), float(), and str()."
   ]
  },
  {
   "cell_type": "code",
   "execution_count": null,
   "id": "7191135b",
   "metadata": {},
   "outputs": [],
   "source": [
    "10. Why does this expression cause an error? How can you fix it?\n",
    "'I have eaten'+ 99 +'burritos'\n",
    "=>The expression causes an error because 99 is an integer.\n",
    " sol---- 'I habe eaten '+ str(99) +' burritos'"
   ]
  },
  {
   "cell_type": "code",
   "execution_count": 1,
   "id": "b721bcf9",
   "metadata": {},
   "outputs": [
    {
     "ename": "TypeError",
     "evalue": "can only concatenate str (not \"int\") to str",
     "output_type": "error",
     "traceback": [
      "\u001b[1;31m---------------------------------------------------------------------------\u001b[0m",
      "\u001b[1;31mTypeError\u001b[0m                                 Traceback (most recent call last)",
      "\u001b[1;32m<ipython-input-1-760fb612745e>\u001b[0m in \u001b[0;36m<module>\u001b[1;34m\u001b[0m\n\u001b[1;32m----> 1\u001b[1;33m \u001b[1;34m'I habe eaten'\u001b[0m\u001b[1;33m+\u001b[0m\u001b[1;36m99\u001b[0m\u001b[1;33m+\u001b[0m\u001b[1;34m'burritos'\u001b[0m\u001b[1;33m\u001b[0m\u001b[1;33m\u001b[0m\u001b[0m\n\u001b[0m",
      "\u001b[1;31mTypeError\u001b[0m: can only concatenate str (not \"int\") to str"
     ]
    }
   ],
   "source": [
    "'I habe eaten'+99+'burritos'                              "
   ]
  },
  {
   "cell_type": "code",
   "execution_count": 2,
   "id": "8f87bd68",
   "metadata": {},
   "outputs": [
    {
     "data": {
      "text/plain": [
       "'I habe eaten 99 burritos'"
      ]
     },
     "execution_count": 2,
     "metadata": {},
     "output_type": "execute_result"
    }
   ],
   "source": [
    "'I habe eaten '+ str(99) +' burritos'"
   ]
  },
  {
   "cell_type": "code",
   "execution_count": null,
   "id": "7be86189",
   "metadata": {},
   "outputs": [],
   "source": []
  }
 ],
 "metadata": {
  "kernelspec": {
   "display_name": "Python 3",
   "language": "python",
   "name": "python3"
  },
  "language_info": {
   "codemirror_mode": {
    "name": "ipython",
    "version": 3
   },
   "file_extension": ".py",
   "mimetype": "text/x-python",
   "name": "python",
   "nbconvert_exporter": "python",
   "pygments_lexer": "ipython3",
   "version": "3.8.8"
  }
 },
 "nbformat": 4,
 "nbformat_minor": 5
}
